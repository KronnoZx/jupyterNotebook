{
 "cells": [
  {
   "cell_type": "code",
   "execution_count": 1,
   "id": "a146dcad",
   "metadata": {},
   "outputs": [],
   "source": [
    "import pyautogui as pya\n",
    "from random import randrange as rm\n",
    "from time import sleep"
   ]
  },
  {
   "cell_type": "markdown",
   "id": "70ad61c3",
   "metadata": {},
   "source": []
  },
  {
   "cell_type": "code",
   "execution_count": 2,
   "id": "a6c21a2c",
   "metadata": {
    "scrolled": true
   },
   "outputs": [
    {
     "ename": "KeyboardInterrupt",
     "evalue": "",
     "output_type": "error",
     "traceback": [
      "\u001b[1;31m---------------------------------------------------------------------------\u001b[0m",
      "\u001b[1;31mKeyboardInterrupt\u001b[0m                         Traceback (most recent call last)",
      "Cell \u001b[1;32mIn[2], line 10\u001b[0m\n\u001b[0;32m      8\u001b[0m pya\u001b[39m.\u001b[39mwrite(\u001b[39m'\u001b[39m\u001b[39mbing.com\u001b[39m\u001b[39m'\u001b[39m)\n\u001b[0;32m      9\u001b[0m pya\u001b[39m.\u001b[39mhotkey(\u001b[39m'\u001b[39m\u001b[39menter\u001b[39m\u001b[39m'\u001b[39m)\n\u001b[1;32m---> 10\u001b[0m sleep(\u001b[39m1.5\u001b[39m)\n\u001b[0;32m     11\u001b[0m pya\u001b[39m.\u001b[39mwrite(\u001b[39mf\u001b[39m\u001b[39m'\u001b[39m\u001b[39m{\u001b[39;00male\u001b[39m}\u001b[39;00m\u001b[39m'\u001b[39m)\n\u001b[0;32m     12\u001b[0m pya\u001b[39m.\u001b[39mhotkey(\u001b[39m'\u001b[39m\u001b[39menter\u001b[39m\u001b[39m'\u001b[39m)\n",
      "\u001b[1;31mKeyboardInterrupt\u001b[0m: "
     ]
    }
   ],
   "source": [
    "sleep(3)\n",
    "pya.hotkey('ctrl','t')\n",
    "\n",
    "while True:\n",
    "    ale = rm(50000)\n",
    "    sleep(2)\n",
    "    pya.hotkey('ctrl','l')\n",
    "    pya.write('bing.com')\n",
    "    pya.hotkey('enter')\n",
    "    sleep(1.5)\n",
    "    pya.write(f'{ale}')\n",
    "    pya.hotkey('enter')\n",
    "    sleep(1.5)"
   ]
  }
 ],
 "metadata": {
  "kernelspec": {
   "display_name": "Python 3",
   "language": "python",
   "name": "python3"
  },
  "language_info": {
   "codemirror_mode": {
    "name": "ipython",
    "version": 3
   },
   "file_extension": ".py",
   "mimetype": "text/x-python",
   "name": "python",
   "nbconvert_exporter": "python",
   "pygments_lexer": "ipython3",
   "version": "3.11.1 (tags/v3.11.1:a7a450f, Dec  6 2022, 19:58:39) [MSC v.1934 64 bit (AMD64)]"
  },
  "vscode": {
   "interpreter": {
    "hash": "413cf7ece7e7895c459df1de29ebce93defce9ea504c2d6e18e0bc409ab02f12"
   }
  }
 },
 "nbformat": 4,
 "nbformat_minor": 5
}
