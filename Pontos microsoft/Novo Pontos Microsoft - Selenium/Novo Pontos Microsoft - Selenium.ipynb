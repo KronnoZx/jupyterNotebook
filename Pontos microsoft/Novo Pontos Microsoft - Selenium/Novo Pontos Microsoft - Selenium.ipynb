{
 "cells": [
  {
   "cell_type": "code",
   "execution_count": null,
   "id": "b7184868",
   "metadata": {},
   "outputs": [],
   "source": [
    "from selenium import webdriver\n",
    "import random\n",
    "from time import sleep\n",
    "import pyautogui as pya\n",
    "from plyer import notification\n",
    "import time"
   ]
  },
  {
   "cell_type": "code",
   "execution_count": null,
   "id": "7367305e",
   "metadata": {},
   "outputs": [],
   "source": [
    "def final"
   ]
  },
  {
   "cell_type": "code",
   "execution_count": 35,
   "id": "d02974aa",
   "metadata": {},
   "outputs": [
    {
     "ename": "StaleElementReferenceException",
     "evalue": "Message: stale element reference: element is not attached to the page document\n  (Session info: MicrosoftEdge=109.0.1518.78)\nStacktrace:\nBacktrace:\n\tMicrosoft::Applications::Events::EventProperties::SetProperty [0x00007FF6FE3216C2+15186]\n\tMicrosoft::Applications::Events::EventProperty::EventProperty [0x00007FF6FE2BA212+827554]\n\t(No symbol) [0x00007FF6FDF7ED90]\n\t(No symbol) [0x00007FF6FDF82D9A]\n\t(No symbol) [0x00007FF6FDF82AC9]\n\t(No symbol) [0x00007FF6FDF82F00]\n\t(No symbol) [0x00007FF6FDFC315A]\n\t(No symbol) [0x00007FF6FDFC302F]\n\t(No symbol) [0x00007FF6FDFC31F2]\n\t(No symbol) [0x00007FF6FDFB875D]\n\t(No symbol) [0x00007FF6FDFE1F4A]\n\t(No symbol) [0x00007FF6FDFB4C3E]\n\t(No symbol) [0x00007FF6FDFB4B11]\n\t(No symbol) [0x00007FF6FDFE2280]\n\t(No symbol) [0x00007FF6FDFB4C3E]\n\t(No symbol) [0x00007FF6FDFFB513]\n\t(No symbol) [0x00007FF6FDFE1D23]\n\t(No symbol) [0x00007FF6FDFB3B80]\n\t(No symbol) [0x00007FF6FDFB2B0E]\n\t(No symbol) [0x00007FF6FDFB4344]\n\tMicrosoft::Applications::Events::EventProperties::SetProperty [0x00007FF6FE19C3B0+182752]\n\t(No symbol) [0x00007FF6FE070095]\n\tMicrosoft::Applications::Events::EventProperty::EventProperty [0x00007FF6FE1FA6EA+42362]\n\tMicrosoft::Applications::Events::EventProperty::EventProperty [0x00007FF6FE1FD425+53941]\n\tMicrosoft::Applications::Events::ILogManager::DispatchEventBroadcast [0x00007FF6FE518AB3+1456595]\n\tMicrosoft::Applications::Events::EventProperty::EventProperty [0x00007FF6FE2C276A+861690]\n\tMicrosoft::Applications::Events::EventProperty::EventProperty [0x00007FF6FE2C7854+882404]\n\tMicrosoft::Applications::Events::EventProperty::EventProperty [0x00007FF6FE2C79AC+882748]\n\tMicrosoft::Applications::Events::EventProperty::EventProperty [0x00007FF6FE2D097E+919566]\n\tBaseThreadInitThunk [0x00007FFB08087614+20]\n\tRtlUserThreadStart [0x00007FFB081C26A1+33]\n",
     "output_type": "error",
     "traceback": [
      "\u001b[1;31m---------------------------------------------------------------------------\u001b[0m",
      "\u001b[1;31mStaleElementReferenceException\u001b[0m            Traceback (most recent call last)",
      "\u001b[1;32m~\\AppData\\Local\\Temp\\ipykernel_17012\\2956097070.py\u001b[0m in \u001b[0;36m<module>\u001b[1;34m\u001b[0m\n\u001b[0;32m     66\u001b[0m \u001b[1;33m\u001b[0m\u001b[0m\n\u001b[0;32m     67\u001b[0m     \u001b[1;31m# Digite o termo de pesquisa\u001b[0m\u001b[1;33m\u001b[0m\u001b[1;33m\u001b[0m\u001b[0m\n\u001b[1;32m---> 68\u001b[1;33m     \u001b[0msearch_element\u001b[0m\u001b[1;33m.\u001b[0m\u001b[0msend_keys\u001b[0m\u001b[1;33m(\u001b[0m\u001b[0msearch_term\u001b[0m\u001b[1;33m)\u001b[0m\u001b[1;33m\u001b[0m\u001b[1;33m\u001b[0m\u001b[0m\n\u001b[0m\u001b[0;32m     69\u001b[0m \u001b[1;33m\u001b[0m\u001b[0m\n\u001b[0;32m     70\u001b[0m     \u001b[1;31m# Enviar o formulário de pesquisa\u001b[0m\u001b[1;33m\u001b[0m\u001b[1;33m\u001b[0m\u001b[0m\n",
      "\u001b[1;32m~\\Anaconda3\\lib\\site-packages\\selenium\\webdriver\\remote\\webelement.py\u001b[0m in \u001b[0;36msend_keys\u001b[1;34m(self, *value)\u001b[0m\n\u001b[0;32m    231\u001b[0m                 \u001b[0mvalue\u001b[0m \u001b[1;33m=\u001b[0m \u001b[1;34m\"\\n\"\u001b[0m\u001b[1;33m.\u001b[0m\u001b[0mjoin\u001b[0m\u001b[1;33m(\u001b[0m\u001b[0mremote_files\u001b[0m\u001b[1;33m)\u001b[0m\u001b[1;33m\u001b[0m\u001b[1;33m\u001b[0m\u001b[0m\n\u001b[0;32m    232\u001b[0m \u001b[1;33m\u001b[0m\u001b[0m\n\u001b[1;32m--> 233\u001b[1;33m         self._execute(\n\u001b[0m\u001b[0;32m    234\u001b[0m             \u001b[0mCommand\u001b[0m\u001b[1;33m.\u001b[0m\u001b[0mSEND_KEYS_TO_ELEMENT\u001b[0m\u001b[1;33m,\u001b[0m \u001b[1;33m{\u001b[0m\u001b[1;34m\"text\"\u001b[0m\u001b[1;33m:\u001b[0m \u001b[1;34m\"\"\u001b[0m\u001b[1;33m.\u001b[0m\u001b[0mjoin\u001b[0m\u001b[1;33m(\u001b[0m\u001b[0mkeys_to_typing\u001b[0m\u001b[1;33m(\u001b[0m\u001b[0mvalue\u001b[0m\u001b[1;33m)\u001b[0m\u001b[1;33m)\u001b[0m\u001b[1;33m,\u001b[0m \u001b[1;34m\"value\"\u001b[0m\u001b[1;33m:\u001b[0m \u001b[0mkeys_to_typing\u001b[0m\u001b[1;33m(\u001b[0m\u001b[0mvalue\u001b[0m\u001b[1;33m)\u001b[0m\u001b[1;33m}\u001b[0m\u001b[1;33m\u001b[0m\u001b[1;33m\u001b[0m\u001b[0m\n\u001b[0;32m    235\u001b[0m         )\n",
      "\u001b[1;32m~\\Anaconda3\\lib\\site-packages\\selenium\\webdriver\\remote\\webelement.py\u001b[0m in \u001b[0;36m_execute\u001b[1;34m(self, command, params)\u001b[0m\n\u001b[0;32m    408\u001b[0m             \u001b[0mparams\u001b[0m \u001b[1;33m=\u001b[0m \u001b[1;33m{\u001b[0m\u001b[1;33m}\u001b[0m\u001b[1;33m\u001b[0m\u001b[1;33m\u001b[0m\u001b[0m\n\u001b[0;32m    409\u001b[0m         \u001b[0mparams\u001b[0m\u001b[1;33m[\u001b[0m\u001b[1;34m\"id\"\u001b[0m\u001b[1;33m]\u001b[0m \u001b[1;33m=\u001b[0m \u001b[0mself\u001b[0m\u001b[1;33m.\u001b[0m\u001b[0m_id\u001b[0m\u001b[1;33m\u001b[0m\u001b[1;33m\u001b[0m\u001b[0m\n\u001b[1;32m--> 410\u001b[1;33m         \u001b[1;32mreturn\u001b[0m \u001b[0mself\u001b[0m\u001b[1;33m.\u001b[0m\u001b[0m_parent\u001b[0m\u001b[1;33m.\u001b[0m\u001b[0mexecute\u001b[0m\u001b[1;33m(\u001b[0m\u001b[0mcommand\u001b[0m\u001b[1;33m,\u001b[0m \u001b[0mparams\u001b[0m\u001b[1;33m)\u001b[0m\u001b[1;33m\u001b[0m\u001b[1;33m\u001b[0m\u001b[0m\n\u001b[0m\u001b[0;32m    411\u001b[0m \u001b[1;33m\u001b[0m\u001b[0m\n\u001b[0;32m    412\u001b[0m     \u001b[1;32mdef\u001b[0m \u001b[0mfind_element\u001b[0m\u001b[1;33m(\u001b[0m\u001b[0mself\u001b[0m\u001b[1;33m,\u001b[0m \u001b[0mby\u001b[0m\u001b[1;33m=\u001b[0m\u001b[0mBy\u001b[0m\u001b[1;33m.\u001b[0m\u001b[0mID\u001b[0m\u001b[1;33m,\u001b[0m \u001b[0mvalue\u001b[0m\u001b[1;33m=\u001b[0m\u001b[1;32mNone\u001b[0m\u001b[1;33m)\u001b[0m \u001b[1;33m->\u001b[0m \u001b[0mWebElement\u001b[0m\u001b[1;33m:\u001b[0m\u001b[1;33m\u001b[0m\u001b[1;33m\u001b[0m\u001b[0m\n",
      "\u001b[1;32m~\\Anaconda3\\lib\\site-packages\\selenium\\webdriver\\remote\\webdriver.py\u001b[0m in \u001b[0;36mexecute\u001b[1;34m(self, driver_command, params)\u001b[0m\n\u001b[0;32m    442\u001b[0m         \u001b[0mresponse\u001b[0m \u001b[1;33m=\u001b[0m \u001b[0mself\u001b[0m\u001b[1;33m.\u001b[0m\u001b[0mcommand_executor\u001b[0m\u001b[1;33m.\u001b[0m\u001b[0mexecute\u001b[0m\u001b[1;33m(\u001b[0m\u001b[0mdriver_command\u001b[0m\u001b[1;33m,\u001b[0m \u001b[0mparams\u001b[0m\u001b[1;33m)\u001b[0m\u001b[1;33m\u001b[0m\u001b[1;33m\u001b[0m\u001b[0m\n\u001b[0;32m    443\u001b[0m         \u001b[1;32mif\u001b[0m \u001b[0mresponse\u001b[0m\u001b[1;33m:\u001b[0m\u001b[1;33m\u001b[0m\u001b[1;33m\u001b[0m\u001b[0m\n\u001b[1;32m--> 444\u001b[1;33m             \u001b[0mself\u001b[0m\u001b[1;33m.\u001b[0m\u001b[0merror_handler\u001b[0m\u001b[1;33m.\u001b[0m\u001b[0mcheck_response\u001b[0m\u001b[1;33m(\u001b[0m\u001b[0mresponse\u001b[0m\u001b[1;33m)\u001b[0m\u001b[1;33m\u001b[0m\u001b[1;33m\u001b[0m\u001b[0m\n\u001b[0m\u001b[0;32m    445\u001b[0m             \u001b[0mresponse\u001b[0m\u001b[1;33m[\u001b[0m\u001b[1;34m\"value\"\u001b[0m\u001b[1;33m]\u001b[0m \u001b[1;33m=\u001b[0m \u001b[0mself\u001b[0m\u001b[1;33m.\u001b[0m\u001b[0m_unwrap_value\u001b[0m\u001b[1;33m(\u001b[0m\u001b[0mresponse\u001b[0m\u001b[1;33m.\u001b[0m\u001b[0mget\u001b[0m\u001b[1;33m(\u001b[0m\u001b[1;34m\"value\"\u001b[0m\u001b[1;33m,\u001b[0m \u001b[1;32mNone\u001b[0m\u001b[1;33m)\u001b[0m\u001b[1;33m)\u001b[0m\u001b[1;33m\u001b[0m\u001b[1;33m\u001b[0m\u001b[0m\n\u001b[0;32m    446\u001b[0m             \u001b[1;32mreturn\u001b[0m \u001b[0mresponse\u001b[0m\u001b[1;33m\u001b[0m\u001b[1;33m\u001b[0m\u001b[0m\n",
      "\u001b[1;32m~\\Anaconda3\\lib\\site-packages\\selenium\\webdriver\\remote\\errorhandler.py\u001b[0m in \u001b[0;36mcheck_response\u001b[1;34m(self, response)\u001b[0m\n\u001b[0;32m    247\u001b[0m                 \u001b[0malert_text\u001b[0m \u001b[1;33m=\u001b[0m \u001b[0mvalue\u001b[0m\u001b[1;33m[\u001b[0m\u001b[1;34m\"alert\"\u001b[0m\u001b[1;33m]\u001b[0m\u001b[1;33m.\u001b[0m\u001b[0mget\u001b[0m\u001b[1;33m(\u001b[0m\u001b[1;34m\"text\"\u001b[0m\u001b[1;33m)\u001b[0m\u001b[1;33m\u001b[0m\u001b[1;33m\u001b[0m\u001b[0m\n\u001b[0;32m    248\u001b[0m             \u001b[1;32mraise\u001b[0m \u001b[0mexception_class\u001b[0m\u001b[1;33m(\u001b[0m\u001b[0mmessage\u001b[0m\u001b[1;33m,\u001b[0m \u001b[0mscreen\u001b[0m\u001b[1;33m,\u001b[0m \u001b[0mstacktrace\u001b[0m\u001b[1;33m,\u001b[0m \u001b[0malert_text\u001b[0m\u001b[1;33m)\u001b[0m  \u001b[1;31m# type: ignore[call-arg]  # mypy is not smart enough here\u001b[0m\u001b[1;33m\u001b[0m\u001b[1;33m\u001b[0m\u001b[0m\n\u001b[1;32m--> 249\u001b[1;33m         \u001b[1;32mraise\u001b[0m \u001b[0mexception_class\u001b[0m\u001b[1;33m(\u001b[0m\u001b[0mmessage\u001b[0m\u001b[1;33m,\u001b[0m \u001b[0mscreen\u001b[0m\u001b[1;33m,\u001b[0m \u001b[0mstacktrace\u001b[0m\u001b[1;33m)\u001b[0m\u001b[1;33m\u001b[0m\u001b[1;33m\u001b[0m\u001b[0m\n\u001b[0m",
      "\u001b[1;31mStaleElementReferenceException\u001b[0m: Message: stale element reference: element is not attached to the page document\n  (Session info: MicrosoftEdge=109.0.1518.78)\nStacktrace:\nBacktrace:\n\tMicrosoft::Applications::Events::EventProperties::SetProperty [0x00007FF6FE3216C2+15186]\n\tMicrosoft::Applications::Events::EventProperty::EventProperty [0x00007FF6FE2BA212+827554]\n\t(No symbol) [0x00007FF6FDF7ED90]\n\t(No symbol) [0x00007FF6FDF82D9A]\n\t(No symbol) [0x00007FF6FDF82AC9]\n\t(No symbol) [0x00007FF6FDF82F00]\n\t(No symbol) [0x00007FF6FDFC315A]\n\t(No symbol) [0x00007FF6FDFC302F]\n\t(No symbol) [0x00007FF6FDFC31F2]\n\t(No symbol) [0x00007FF6FDFB875D]\n\t(No symbol) [0x00007FF6FDFE1F4A]\n\t(No symbol) [0x00007FF6FDFB4C3E]\n\t(No symbol) [0x00007FF6FDFB4B11]\n\t(No symbol) [0x00007FF6FDFE2280]\n\t(No symbol) [0x00007FF6FDFB4C3E]\n\t(No symbol) [0x00007FF6FDFFB513]\n\t(No symbol) [0x00007FF6FDFE1D23]\n\t(No symbol) [0x00007FF6FDFB3B80]\n\t(No symbol) [0x00007FF6FDFB2B0E]\n\t(No symbol) [0x00007FF6FDFB4344]\n\tMicrosoft::Applications::Events::EventProperties::SetProperty [0x00007FF6FE19C3B0+182752]\n\t(No symbol) [0x00007FF6FE070095]\n\tMicrosoft::Applications::Events::EventProperty::EventProperty [0x00007FF6FE1FA6EA+42362]\n\tMicrosoft::Applications::Events::EventProperty::EventProperty [0x00007FF6FE1FD425+53941]\n\tMicrosoft::Applications::Events::ILogManager::DispatchEventBroadcast [0x00007FF6FE518AB3+1456595]\n\tMicrosoft::Applications::Events::EventProperty::EventProperty [0x00007FF6FE2C276A+861690]\n\tMicrosoft::Applications::Events::EventProperty::EventProperty [0x00007FF6FE2C7854+882404]\n\tMicrosoft::Applications::Events::EventProperty::EventProperty [0x00007FF6FE2C79AC+882748]\n\tMicrosoft::Applications::Events::EventProperty::EventProperty [0x00007FF6FE2D097E+919566]\n\tBaseThreadInitThunk [0x00007FFB08087614+20]\n\tRtlUserThreadStart [0x00007FFB081C26A1+33]\n"
     ]
    }
   ],
   "source": [
    "\n",
    "\n",
    "# Inicializar o driver do Microsoft Edge\n",
    "driver = webdriver.Edge()\n",
    "\n",
    "# Abrir o site do Bing\n",
    "driver.get(\"https://www.bing.com/\")\n",
    "\n",
    "sleep(3)\n",
    "pya.hotkey('esc')\n",
    "sleep(3)\n",
    "pya.hotkey('win','up')\n",
    "\n",
    "\n",
    "# Encontrar o elemento de pesquisa\n",
    "accept_terms = driver.find_element(by=\"id\",value=\"bnp_btn_accept\").click()\n",
    "search_element = driver.find_element(by=\"name\",value=\"q\")\n",
    "\n",
    "# Lista de termos de pesquisa aleatórios\n",
    "search_terms = [\"Selenium\", \"Python\", \"Microsoft Edge\", \"Robôs de pesquisa\", \"Web scraping\",\n",
    "    \"Machine Learning\", \"Data Science\", \"Deep Learning\", \"Computer Vision\", \"NLP\",\n",
    "    \"Big Data\", \"Artificial Intelligence\", \"AI\", \"Internet of Things\", \"Cloud Computing\",\n",
    "    \"DevOps\", \"Blockchain\", \"Cybersecurity\", \"Quantum Computing\", \"Augmented Reality\",\n",
    "    \"Virtual Reality\", \"Game Development\", \"Mobile Development\", \"Web Development\",\n",
    "    \"Software Development\", \"Full Stack Development\", \"Backend Development\", \"Frontend Development\",\n",
    "    \"Database Management\", \"API Development\", \"Microservices\", \"Docker\", \"Kubernetes\",\n",
    "    \"Agile Methodology\", \"Scrum\", \"Kanban\", \"Lean\", \"Waterfall\", \"XP\",\n",
    "    \"Continuous Integration\", \"Continuous Deployment\", \"Continuous Delivery\", \"Test-Driven Development\",\n",
    "    \"Behavior-Driven Development\", \"Acceptance Test-Driven Development\", \"Domain-Driven Design\", \"User Experience\", \"User Interface\",\n",
    "    \"Interaction Design\", \"Graphic Design\", \"Product Design\", \"Fashion Design\", \"Interior Design\",\n",
    "    \"Industrial Design\", \"Landscape Architecture\", \"Urban Planning\", \"Architecture\", \"Engineering\",\n",
    "    \"Mechanical Engineering\", \"Electrical Engineering\", \"Civil Engineering\", \"Chemical Engineering\", \"Aerospace Engineering\",\n",
    "    \"Materials Science\", \"Physics\", \"Chemistry\", \"Biology\", \"Environmental Science\",\n",
    "    \"Geology\", \"Astronomy\", \"Mathematics\", \"Statistics\", \"Data Analysis\",\n",
    "    \"Data Visualization\", \"Business Intelligence\", \"Marketing\", \"Sales\", \"Customer Service\",\n",
    "    \"Human Resources\", \"Project Management\", \"Product Management\", \"Operations Management\", \"Supply Chain Management\",\n",
    "    \"Financial Management\", \"Accounting\", \"Investment Banking\", \"Private Equity\", \"Venture Capital\",\n",
    "    \"Wealth Management\", \"Real Estate\", \"Hospitality Management\", \"Tourism Management\", \"Event Management\",\n",
    "    \"Public Relations\", \"Advertising\", \"Journalism\", \"Content Creation\", \"Social Media Management\",\n",
    "    \"Search Engine Optimization\", \"Pay-Per-Click Advertising\", \"Influencer Marketing\", \"Affiliate Marketing\", \"Email Marketing\",\n",
    "    \"Digital Marketing\", \"Brand Management\", \"Public Speaking\", \"Negotiation\", \"Mediation\",\n",
    "    \"Leadership\", \"Team Building\", \"Coaching\", \"Mentoring\", \"Counseling\",\n",
    "    \"Psychology\", \"Sociology\", \"Anthropology\", \"Philosophy\", \"Ethics\",\n",
    "    \"History\", \"Geography\", \"Political Science\", \"International Relations\", \"Law\"]\n",
    "\n",
    "count = 0\n",
    "while count < 51:\n",
    "    # seu código aqui\n",
    "    count += 1\n",
    "    notification.notify(\n",
    "        title=\"Contador\",\n",
    "        message=f\"O código já rodou {count} vezes.\",\n",
    "        app_name=\"Contador de execuções\",\n",
    "        timeout=2\n",
    "    )\n",
    "    # Executar pesquisas aleatórias 5 vezes\n",
    "#     for i in range(50):\n",
    "\n",
    "        # Escolher um termo de pesquisa aleatório\n",
    "    search_term = random.choice(search_terms)\n",
    "\n",
    "    # Digite o termo de pesquisa\n",
    "    search_element.send_keys(search_term)\n",
    "\n",
    "    # Enviar o formulário de pesquisa\n",
    "    search_element.submit()\n",
    "\n",
    "    # Esperar 5 segundos\n",
    "    sleep(2)\n",
    "\n",
    "    # Voltar para a página inicial do Bing\n",
    "    driver.get(\"https://www.bing.com/\")\n",
    "    sleep(2)\n",
    "    accept_terms\n",
    "\n",
    "    # Encontrar o elemento de pesquisa novamente\n",
    "\n",
    "    search_element = driver.find_element(by=\"name\",value=\"q\")\n",
    "\n",
    "# Fechar o navegador\n",
    "driver.quit()\n"
   ]
  },
  {
   "cell_type": "code",
   "execution_count": 34,
   "id": "9a08fd47",
   "metadata": {},
   "outputs": [],
   "source": [
    "notification.notify(\n",
    "        title=\"Contador\",\n",
    "        message=f\"O código já rodou {count} vezes.\\nVocê ja possui {count} pontos no Microsoft Rewards !\",\n",
    "        app_name=\"Contador de execuções\",\n",
    "        timeout=5\n",
    "    )"
   ]
  }
 ],
 "metadata": {
  "kernelspec": {
   "display_name": "Python 3",
   "language": "python",
   "name": "python3"
  },
  "language_info": {
   "codemirror_mode": {
    "name": "ipython",
    "version": 3
   },
   "file_extension": ".py",
   "mimetype": "text/x-python",
   "name": "python",
   "nbconvert_exporter": "python",
   "pygments_lexer": "ipython3",
   "version": "3.11.1 (tags/v3.11.1:a7a450f, Dec  6 2022, 19:58:39) [MSC v.1934 64 bit (AMD64)]"
  },
  "vscode": {
   "interpreter": {
    "hash": "413cf7ece7e7895c459df1de29ebce93defce9ea504c2d6e18e0bc409ab02f12"
   }
  }
 },
 "nbformat": 4,
 "nbformat_minor": 5
}
